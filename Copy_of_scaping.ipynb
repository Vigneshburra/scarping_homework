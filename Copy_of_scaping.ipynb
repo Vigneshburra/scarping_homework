{
  "nbformat": 4,
  "nbformat_minor": 0,
  "metadata": {
    "colab": {
      "provenance": [],
      "authorship_tag": "ABX9TyMyxM4d0/msz9sgtJ+5RH/p",
      "include_colab_link": true
    },
    "kernelspec": {
      "name": "python3",
      "display_name": "Python 3"
    },
    "language_info": {
      "name": "python"
    }
  },
  "cells": [
    {
      "cell_type": "markdown",
      "metadata": {
        "id": "view-in-github",
        "colab_type": "text"
      },
      "source": [
        "<a href=\"https://colab.research.google.com/github/Vigneshburra/scarping_homework/blob/main/Copy_of_scaping.ipynb\" target=\"_parent\"><img src=\"https://colab.research.google.com/assets/colab-badge.svg\" alt=\"Open In Colab\"/></a>"
      ]
    },
    {
      "cell_type": "code",
      "execution_count": null,
      "metadata": {
        "id": "IMKMT-e4sxLf"
      },
      "outputs": [],
      "source": [
        "import requests\n",
        "import pandas as pd\n",
        "from bs4 import BeautifulSoup\n",
        "\n",
        "url='https://en.wikipedia.org/wiki/List_of_active_Indian_military_aircraft'\n",
        "data=requests.get(url)\n",
        "soup=BeautifulSoup(data.content,'html.parser')\n",
        "list1=soup.find('table',class_='wikitable')\n"
      ]
    },
    {
      "cell_type": "code",
      "source": [
        "for i in list1.find_all('tr')[2:]:\n",
        "  try:\n",
        "    print(i.find('td').text)\n",
        "  except:\n",
        "    continue"
      ],
      "metadata": {
        "id": "dh9MJScrtDB3",
        "outputId": "6b7fa476-c293-4835-c673-8234bc59e52c",
        "colab": {
          "base_uri": "https://localhost:8080/"
        }
      },
      "execution_count": null,
      "outputs": [
        {
          "output_type": "stream",
          "name": "stdout",
          "text": [
            "MiG-21\n",
            "\n",
            "MiG-29\n",
            "\n",
            "HAL Tejas\n",
            "\n",
            " Mirage 2000\n",
            "\n",
            "Sukhoi Su-30MKI\n",
            "\n",
            "Dassault Rafale\n",
            "\n",
            "SEPECAT Jaguar\n",
            "\n",
            "Embraer R-99\n",
            "\n",
            "Beriev A-50\n",
            "\n",
            "Boeing 707\n",
            "\n",
            "Global 5000\n",
            "\n",
            "Gulfstream G100\n",
            "\n",
            "Gulfstream III\n",
            "\n",
            "Ilyushin Il-78\n",
            "\n",
            "Boeing 737\n",
            "\n",
            "Boeing 777\n",
            "\n",
            "Embraer Legacy 600\n",
            "\n",
            "Boeing C-17\n",
            "\n",
            "Ilyushin Il-76\n",
            "\n",
            "Airbus A321\n",
            "\n",
            "Antonov An-32\n",
            "\n",
            "Dornier Do 228\n",
            "\n",
            "EADS CASA C-295\n",
            "\n",
            " C-130J Super Hercules\n",
            "\n",
            "Hawker Siddeley HS 748\n",
            "\n",
            "Mil Mi-17\n",
            "\n",
            "Mil Mi-24\n",
            "\n",
            "HAL Rudra\n",
            "\n",
            "HAL Dhruv\n",
            "\n",
            "Alouette III\n",
            "\n",
            " SA 315B Lama\n",
            "\n",
            "Boeing AH-64\n",
            "\n",
            "CH-47 Chinook\n",
            "\n",
            "HAL Light Utility Helicopter\n",
            "\n",
            "HAL Prachand\n",
            "\n",
            "BAE Hawk\n",
            "\n",
            "HAL Kiran\n",
            "\n",
            "HAL HTT-40\n",
            "\n",
            "Pilatus PC-7\n",
            "\n",
            "Pipistrel Virus\n",
            "\n",
            "IAI Heron\n",
            "\n",
            "IAI Heron Mk 2\n",
            "\n",
            "IAI Searcher\n",
            "\n",
            "ALS-50\n",
            "\n"
          ]
        }
      ]
    },
    {
      "cell_type": "code",
      "source": [],
      "metadata": {
        "id": "MHH-rh47tGVh"
      },
      "execution_count": null,
      "outputs": []
    }
  ]
}